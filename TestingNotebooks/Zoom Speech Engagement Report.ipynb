{
 "cells": [
  {
   "cell_type": "markdown",
   "metadata": {},
   "source": [
    "# Zoom Speech Engagement Report"
   ]
  },
  {
   "cell_type": "markdown",
   "metadata": {},
   "source": [
    "Speech Recognizor using https://pypi.org/project/SpeechRecognition/1.2.3/ to convert Zoom conversation into text to conduct engagement analysis. Source for transcribing long audio files from: https://www.thepythoncode.com/article/using-speech-recognition-to-convert-speech-to-text-python ."
   ]
  },
  {
   "cell_type": "markdown",
   "metadata": {},
   "source": [
    "### Speech Recognition using mic for a single line of speech"
   ]
  },
  {
   "cell_type": "code",
   "execution_count": 12,
   "metadata": {},
   "outputs": [
    {
     "name": "stdout",
     "output_type": "stream",
     "text": [
      "You said: Hi how are you doing today\n"
     ]
    }
   ],
   "source": [
    "import speech_recognition as sr\n",
    "import pyaudio\n",
    "r = sr.Recognizer()\n",
    "with sr.Microphone() as source:                # use the default microphone as the audio source\n",
    "    audio = r.listen(source)                   # listen for the first phrase and extract it into audio data\n",
    "\n",
    "try:\n",
    "    print(\"You said: \" + r.recognize_google(audio))    # recognize speech using Google Speech Recognition\n",
    "except LookupError:                            # speech is unintelligible\n",
    "    print(\"Could not understand audio\")"
   ]
  },
  {
   "cell_type": "markdown",
   "metadata": {},
   "source": [
    "### Speech Recognition using mic for a several lines of speech"
   ]
  },
  {
   "cell_type": "code",
   "execution_count": 33,
   "metadata": {},
   "outputs": [
    {
     "name": "stdout",
     "output_type": "stream",
     "text": [
      "You said: hello\n",
      "You said: can you hear me why are you not working can you hear me\n",
      "You said: okay cool\n"
     ]
    },
    {
     "name": "stderr",
     "output_type": "stream",
     "text": [
      "Exception in thread Thread-13:\n",
      "Traceback (most recent call last):\n",
      "  File \"/anaconda3/lib/python3.7/threading.py\", line 917, in _bootstrap_inner\n",
      "    self.run()\n",
      "  File \"/anaconda3/lib/python3.7/threading.py\", line 865, in run\n",
      "    self._target(*self._args, **self._kwargs)\n",
      "  File \"/anaconda3/lib/python3.7/site-packages/speech_recognition/__init__.py\", line 697, in threaded_listen\n",
      "    if running[0]: callback(self, audio)\n",
      "  File \"<ipython-input-33-b0b5c40edf50>\", line 3, in callback\n",
      "    text = recognizer.recognize_google(audio)\n",
      "  File \"/anaconda3/lib/python3.7/site-packages/speech_recognition/__init__.py\", line 858, in recognize_google\n",
      "    if not isinstance(actual_result, dict) or len(actual_result.get(\"alternative\", [])) == 0: raise UnknownValueError()\n",
      "speech_recognition.UnknownValueError\n",
      "\n"
     ]
    },
    {
     "ename": "KeyboardInterrupt",
     "evalue": "",
     "output_type": "error",
     "traceback": [
      "\u001b[0;31m---------------------------------------------------------------------------\u001b[0m",
      "\u001b[0;31mKeyboardInterrupt\u001b[0m                         Traceback (most recent call last)",
      "\u001b[0;32m<ipython-input-33-b0b5c40edf50>\u001b[0m in \u001b[0;36m<module>\u001b[0;34m\u001b[0m\n\u001b[1;32m     10\u001b[0m \u001b[0;32mimport\u001b[0m \u001b[0mtime\u001b[0m\u001b[0;34m\u001b[0m\u001b[0;34m\u001b[0m\u001b[0m\n\u001b[1;32m     11\u001b[0m \u001b[0;32mwhile\u001b[0m \u001b[0;32mTrue\u001b[0m\u001b[0;34m:\u001b[0m\u001b[0;34m\u001b[0m\u001b[0;34m\u001b[0m\u001b[0m\n\u001b[0;32m---> 12\u001b[0;31m     \u001b[0mtime\u001b[0m\u001b[0;34m.\u001b[0m\u001b[0msleep\u001b[0m\u001b[0;34m(\u001b[0m\u001b[0;36m0.1\u001b[0m\u001b[0;34m)\u001b[0m\u001b[0;34m\u001b[0m\u001b[0;34m\u001b[0m\u001b[0m\n\u001b[0m",
      "\u001b[0;31mKeyboardInterrupt\u001b[0m: "
     ]
    }
   ],
   "source": [
    "def callback(recognizer, audio):                          # this is called from the background thread\n",
    "    try:\n",
    "        text = recognizer.recognize_google(audio)\n",
    "        print(\"You said: \" + text)  # received audio data, now need to recognize it\n",
    "    except LookupError:\n",
    "        print(\"Oops! Didn't catch that\")\n",
    "r = sr.Recognizer()\n",
    "r.listen_in_background(sr.Microphone(), callback)\n",
    "\n",
    "import time\n",
    "while True: \n",
    "    time.sleep(0.1)    "
   ]
  },
  {
   "cell_type": "markdown",
   "metadata": {},
   "source": [
    "Code above works relatively well for speech but ouputs error and stops work when speaker pauses for a while."
   ]
  },
  {
   "cell_type": "markdown",
   "metadata": {},
   "source": [
    "### Recording transcript from Speech Recognizer"
   ]
  },
  {
   "cell_type": "code",
   "execution_count": 14,
   "metadata": {},
   "outputs": [],
   "source": [
    "# Store each line of speech in a list\n",
    "transcript = []"
   ]
  },
  {
   "cell_type": "code",
   "execution_count": 15,
   "metadata": {},
   "outputs": [
    {
     "name": "stdout",
     "output_type": "stream",
     "text": [
      "You said: hello my name is science\n",
      "You said: checking if this is working\n",
      "You said: and to see if I can get a proper transcript\n",
      "You said: also my name is since not science hello can you hear me\n",
      "You said: my name is sense not science\n"
     ]
    },
    {
     "name": "stderr",
     "output_type": "stream",
     "text": [
      "Exception in thread Thread-8:\n",
      "Traceback (most recent call last):\n",
      "  File \"/anaconda3/lib/python3.7/threading.py\", line 917, in _bootstrap_inner\n",
      "    self.run()\n",
      "  File \"/anaconda3/lib/python3.7/threading.py\", line 865, in run\n",
      "    self._target(*self._args, **self._kwargs)\n",
      "  File \"/anaconda3/lib/python3.7/site-packages/speech_recognition/__init__.py\", line 697, in threaded_listen\n",
      "    if running[0]: callback(self, audio)\n",
      "  File \"<ipython-input-15-c68b5cb38d70>\", line 3, in callbackAndTranscribe\n",
      "    line = recognizer.recognize_google(audio)\n",
      "  File \"/anaconda3/lib/python3.7/site-packages/speech_recognition/__init__.py\", line 858, in recognize_google\n",
      "    if not isinstance(actual_result, dict) or len(actual_result.get(\"alternative\", [])) == 0: raise UnknownValueError()\n",
      "speech_recognition.UnknownValueError\n",
      "\n"
     ]
    },
    {
     "ename": "KeyboardInterrupt",
     "evalue": "",
     "output_type": "error",
     "traceback": [
      "\u001b[0;31m---------------------------------------------------------------------------\u001b[0m",
      "\u001b[0;31mKeyboardInterrupt\u001b[0m                         Traceback (most recent call last)",
      "\u001b[0;32m<ipython-input-15-c68b5cb38d70>\u001b[0m in \u001b[0;36m<module>\u001b[0;34m\u001b[0m\n\u001b[1;32m     11\u001b[0m \u001b[0;32mimport\u001b[0m \u001b[0mtime\u001b[0m\u001b[0;34m\u001b[0m\u001b[0;34m\u001b[0m\u001b[0m\n\u001b[1;32m     12\u001b[0m \u001b[0;32mwhile\u001b[0m \u001b[0;32mTrue\u001b[0m\u001b[0;34m:\u001b[0m\u001b[0;34m\u001b[0m\u001b[0;34m\u001b[0m\u001b[0m\n\u001b[0;32m---> 13\u001b[0;31m     \u001b[0mtime\u001b[0m\u001b[0;34m.\u001b[0m\u001b[0msleep\u001b[0m\u001b[0;34m(\u001b[0m\u001b[0;36m0.1\u001b[0m\u001b[0;34m)\u001b[0m\u001b[0;34m\u001b[0m\u001b[0;34m\u001b[0m\u001b[0m\n\u001b[0m",
      "\u001b[0;31mKeyboardInterrupt\u001b[0m: "
     ]
    }
   ],
   "source": [
    "def callbackAndTranscribe(recognizer, audio):                          # this is called from the background thread\n",
    "    try:\n",
    "        line = recognizer.recognize_google(audio)\n",
    "        print(\"You said: \" + line)  # received audio data, now need to recognize it\n",
    "        transcript.append(line)\n",
    "    except LookupError:\n",
    "        print(\"Oops! Didn't catch that\")\n",
    "r = sr.Recognizer()\n",
    "r.listen_in_background(sr.Microphone(), callbackAndTranscribe)\n",
    "\n",
    "import time\n",
    "while True: \n",
    "    time.sleep(0.1)"
   ]
  },
  {
   "cell_type": "code",
   "execution_count": 16,
   "metadata": {},
   "outputs": [
    {
     "data": {
      "text/plain": [
       "['hello my name is science',\n",
       " 'checking if this is working',\n",
       " 'and to see if I can get a proper transcript',\n",
       " 'also my name is since not science hello can you hear me',\n",
       " 'my name is sense not science']"
      ]
     },
     "execution_count": 16,
     "metadata": {},
     "output_type": "execute_result"
    }
   ],
   "source": [
    "transcript"
   ]
  },
  {
   "cell_type": "markdown",
   "metadata": {},
   "source": [
    "### Recording transcript from Audio File"
   ]
  },
  {
   "cell_type": "markdown",
   "metadata": {},
   "source": [
    "Playing Audio in Jupyter Notebook using pyaudio:"
   ]
  },
  {
   "cell_type": "code",
   "execution_count": 23,
   "metadata": {},
   "outputs": [
    {
     "ename": "KeyboardInterrupt",
     "evalue": "",
     "output_type": "error",
     "traceback": [
      "\u001b[0;31m---------------------------------------------------------------------------\u001b[0m",
      "\u001b[0;31mKeyboardInterrupt\u001b[0m                         Traceback (most recent call last)",
      "\u001b[0;32m<ipython-input-23-f2dc8ffe0378>\u001b[0m in \u001b[0;36m<module>\u001b[0;34m\u001b[0m\n\u001b[1;32m     25\u001b[0m \u001b[0;31m# Play the sound by writing the audio data to the stream\u001b[0m\u001b[0;34m\u001b[0m\u001b[0;34m\u001b[0m\u001b[0;34m\u001b[0m\u001b[0m\n\u001b[1;32m     26\u001b[0m \u001b[0;32mwhile\u001b[0m \u001b[0mdata\u001b[0m \u001b[0;34m!=\u001b[0m \u001b[0;34m''\u001b[0m\u001b[0;34m:\u001b[0m\u001b[0;34m\u001b[0m\u001b[0;34m\u001b[0m\u001b[0m\n\u001b[0;32m---> 27\u001b[0;31m     \u001b[0mstream\u001b[0m\u001b[0;34m.\u001b[0m\u001b[0mwrite\u001b[0m\u001b[0;34m(\u001b[0m\u001b[0mdata\u001b[0m\u001b[0;34m)\u001b[0m\u001b[0;34m\u001b[0m\u001b[0;34m\u001b[0m\u001b[0m\n\u001b[0m\u001b[1;32m     28\u001b[0m     \u001b[0mdata\u001b[0m \u001b[0;34m=\u001b[0m \u001b[0mwf\u001b[0m\u001b[0;34m.\u001b[0m\u001b[0mreadframes\u001b[0m\u001b[0;34m(\u001b[0m\u001b[0mchunk\u001b[0m\u001b[0;34m)\u001b[0m\u001b[0;34m\u001b[0m\u001b[0;34m\u001b[0m\u001b[0m\n\u001b[1;32m     29\u001b[0m \u001b[0;34m\u001b[0m\u001b[0m\n",
      "\u001b[0;32m/anaconda3/lib/python3.7/site-packages/pyaudio.py\u001b[0m in \u001b[0;36mwrite\u001b[0;34m(self, frames, num_frames, exception_on_underflow)\u001b[0m\n\u001b[1;32m    584\u001b[0m \u001b[0;34m\u001b[0m\u001b[0m\n\u001b[1;32m    585\u001b[0m         pa.write_stream(self._stream, frames, num_frames,\n\u001b[0;32m--> 586\u001b[0;31m                         exception_on_underflow)\n\u001b[0m\u001b[1;32m    587\u001b[0m \u001b[0;34m\u001b[0m\u001b[0m\n\u001b[1;32m    588\u001b[0m \u001b[0;34m\u001b[0m\u001b[0m\n",
      "\u001b[0;31mKeyboardInterrupt\u001b[0m: "
     ]
    }
   ],
   "source": [
    "#NB Code source: https://realpython.com/playing-and-recording-sound-python/#pyaudio\n",
    "import pyaudio\n",
    "import wave\n",
    "\n",
    "filename = \"SteveJobsCommencementSpeech.wav\"\n",
    "\n",
    "# Set chunk size of 1024 samples per data frame\n",
    "chunk = 1024  \n",
    "\n",
    "# Open the sound file \n",
    "wf = wave.open(filename, 'rb')\n",
    "\n",
    "# Create an interface to PortAudio\n",
    "p = pyaudio.PyAudio()\n",
    "\n",
    "# Open a .Stream object to write the WAV file to\n",
    "# 'output = True' indicates that the sound will be played rather than recorded\n",
    "stream = p.open(format = p.get_format_from_width(wf.getsampwidth()),\n",
    "                channels = wf.getnchannels(),\n",
    "                rate = wf.getframerate(),\n",
    "                output = True)\n",
    "\n",
    "# Read data in chunks\n",
    "data = wf.readframes(chunk)\n",
    "\n",
    "# Play the sound by writing the audio data to the stream\n",
    "while data != '':\n",
    "    stream.write(data)\n",
    "    data = wf.readframes(chunk)\n",
    "\n",
    "# Close and terminate the stream\n",
    "stream.close()\n",
    "p.terminate()"
   ]
  },
  {
   "cell_type": "markdown",
   "metadata": {},
   "source": [
    "Function for splitting up audio in large files and then transcribe as Google API only allows requests for up to 60 seconds per clip:"
   ]
  },
  {
   "cell_type": "code",
   "execution_count": 52,
   "metadata": {},
   "outputs": [],
   "source": [
    "import os \n",
    "from pydub import AudioSegment\n",
    "from pydub.silence import split_on_silence\n",
    "\n",
    "# a function that splits the audio file into chunks\n",
    "# and applies speech recognition\n",
    "def get_large_audio_transcription(path):\n",
    "    \"\"\"\n",
    "    Splitting the large audio file into chunks\n",
    "    and apply speech recognition on each of these chunks\n",
    "    \"\"\"\n",
    "    # open the audio file using pydub\n",
    "    sound = AudioSegment.from_wav(path)  \n",
    "    # split audio sound where silence is 700 miliseconds or more and get chunks\n",
    "    chunks = split_on_silence(sound,\n",
    "        # experiment with this value for your target audio file\n",
    "        min_silence_len = 500,\n",
    "        # adjust this per requirement\n",
    "        silence_thresh = sound.dBFS-14,\n",
    "        # keep the silence for 1 second, adjustable as well\n",
    "        keep_silence=500,\n",
    "    )\n",
    "    folder_name = \"audio-chunks\"\n",
    "    # create a directory to store the audio chunks\n",
    "    if not os.path.isdir(folder_name):\n",
    "        os.mkdir(folder_name)\n",
    "    whole_text = \"\"\n",
    "    # process each chunk \n",
    "    for i, audio_chunk in enumerate(chunks, start=1):\n",
    "        # export audio chunk and save it in\n",
    "        # the `folder_name` directory.\n",
    "        chunk_filename = os.path.join(folder_name, f\"chunk{i}.wav\")\n",
    "        audio_chunk.export(chunk_filename, format=\"wav\")\n",
    "        # recognize the chunk\n",
    "        with sr.AudioFile(chunk_filename) as source:\n",
    "            audio_listened = r.record(source)\n",
    "            # try converting it to text\n",
    "            try:\n",
    "                text = r.recognize_google(audio_listened)\n",
    "            except sr.UnknownValueError as e:\n",
    "                print(\"Error:\", str(e))\n",
    "            else:\n",
    "                text = f\"{text.capitalize()}. \"\n",
    "                print(chunk_filename, \":\", text)\n",
    "                whole_text += text\n",
    "    # return the text for all chunks detected\n",
    "    return whole_text"
   ]
  },
  {
   "cell_type": "code",
   "execution_count": 53,
   "metadata": {},
   "outputs": [
    {
     "name": "stdout",
     "output_type": "stream",
     "text": [
      "audio-chunks/chunk1.wav : Thank you. \n",
      "audio-chunks/chunk2.wav : Imma. \n",
      "audio-chunks/chunk3.wav : Honor to be with you today for your commencement from one of the finest universities in the world. \n",
      "Error: \n",
      "audio-chunks/chunk5.wav : Truth be told. \n",
      "audio-chunks/chunk6.wav : I never graduated from college. \n",
      "audio-chunks/chunk7.wav : Anna. \n",
      "audio-chunks/chunk8.wav : This is the closest i've ever gotten to a college graduation. \n",
      "audio-chunks/chunk9.wav : Today i want to tell you three stories from my life. \n",
      "audio-chunks/chunk10.wav : That's it no big deal. \n",
      "audio-chunks/chunk11.wav : Just three stories. \n",
      "audio-chunks/chunk12.wav : The first story. \n",
      "audio-chunks/chunk13.wav : It's about connecting the dots. \n",
      "audio-chunks/chunk14.wav : I dropped out of college after the first six months but then stayed around as a drop in for another 18 months or so before i really quit. \n",
      "audio-chunks/chunk15.wav : So why'd i drop out. \n",
      "audio-chunks/chunk16.wav : It started before i was born. \n",
      "audio-chunks/chunk17.wav : My biological mother. \n",
      "audio-chunks/chunk18.wav : Was a young unwed graduate student. \n",
      "audio-chunks/chunk19.wav : And she decided to put me up for adoption. \n",
      "audio-chunks/chunk20.wav : She felt very strongly that i should be adopted by college graduates so everything was all set. \n",
      "audio-chunks/chunk21.wav : For me to be adopted at birth by a lawyer and his wife. \n",
      "audio-chunks/chunk22.wav : Accept it when i popped out. \n",
      "audio-chunks/chunk23.wav : They decided at the last minute that they really wanted a girl. \n",
      "audio-chunks/chunk24.wav : So my parents who are on a waiting list got a call in the middle of the night asking. \n",
      "audio-chunks/chunk25.wav : We got an unexpected baby boy. \n",
      "audio-chunks/chunk26.wav : Do you want him. \n",
      "audio-chunks/chunk27.wav : They said. \n",
      "audio-chunks/chunk28.wav : Of course. \n",
      "audio-chunks/chunk29.wav : My biological mother found out later that my mother had never graduated from college. \n",
      "audio-chunks/chunk30.wav : And my father had never graduated from high school. \n",
      "audio-chunks/chunk31.wav : She refused to sign the final adoption papers. \n",
      "audio-chunks/chunk32.wav : The only relented a few months later when my parents promised. \n",
      "audio-chunks/chunk33.wav : That i would go to college. \n",
      "audio-chunks/chunk34.wav : This was the start. \n",
      "audio-chunks/chunk35.wav : In my life. \n",
      "audio-chunks/chunk36.wav : And 17 years later. \n",
      "audio-chunks/chunk37.wav : I did go to college. \n",
      "audio-chunks/chunk38.wav : But i naively chose a college it was almost as expensive as stanford. \n",
      "audio-chunks/chunk39.wav : And all of my working-class parents savings were being spent on my college tuition. \n",
      "audio-chunks/chunk40.wav : After 6 months i couldn't see the value in it. \n",
      "audio-chunks/chunk41.wav : I had no idea what i wanted to do with my life. \n",
      "audio-chunks/chunk42.wav : And no idea how college was going to help me figure it out. \n",
      "audio-chunks/chunk43.wav : And here i was spending all the money my parents would save their entire life. \n",
      "audio-chunks/chunk44.wav : So i decided to drop out. \n",
      "audio-chunks/chunk45.wav : Entrusted it would all work out okay. \n",
      "audio-chunks/chunk46.wav : It was pretty scary at the time but looking back. \n",
      "audio-chunks/chunk47.wav : It was one of the best decisions i ever made. \n",
      "audio-chunks/chunk48.wav : The minute i dropped out. \n",
      "audio-chunks/chunk49.wav : I could stop taking the required classes that didn't interest me. \n",
      "audio-chunks/chunk50.wav : And begin dropping in on the ones that look far more interesting. \n",
      "audio-chunks/chunk51.wav : It wasn't all romantic. \n",
      "audio-chunks/chunk52.wav : I didn't have a dorm room so i slept on the floor in friends rooms. \n",
      "audio-chunks/chunk53.wav : I return coke bottles for the $0.05 deposits to buy food with. \n",
      "audio-chunks/chunk54.wav : And i would walk the seven miles across town every sunday night. \n",
      "audio-chunks/chunk55.wav : To get one good meal a week at the hari krishna temple. \n",
      "audio-chunks/chunk56.wav : I loved it. \n",
      "audio-chunks/chunk57.wav : And much of what i stumbled into by following my curiosity and intuition turned out to be priceless later on. \n",
      "audio-chunks/chunk58.wav : Let me give you one example. \n",
      "audio-chunks/chunk59.wav : Reed college at that time offered perhaps the best calligraphy instruction in the country. \n",
      "audio-chunks/chunk60.wav : Throughout the campus. \n",
      "audio-chunks/chunk61.wav : Every poster every label on every drawer was beautifully hand calligraphed. \n",
      "audio-chunks/chunk62.wav : Because i had dropped out and didn't have to take the normal classes. \n",
      "audio-chunks/chunk63.wav : I decided to take a calligraphy class to learn how to do this. \n",
      "audio-chunks/chunk64.wav : I learned about serif and sans serif typefaces. \n",
      "audio-chunks/chunk65.wav : About varying the amount of space between different letter combinations about what makes great typography great. \n",
      "audio-chunks/chunk66.wav : It was beautiful. \n",
      "audio-chunks/chunk67.wav : Historical. \n",
      "audio-chunks/chunk68.wav : Artistically subtle in a way that science can't capture. \n",
      "audio-chunks/chunk69.wav : And i found it fascinating. \n",
      "audio-chunks/chunk70.wav : None of this had even a hope of any practical application in my life. \n",
      "audio-chunks/chunk71.wav : But ten years later when we were designing the first macintosh computer. \n",
      "audio-chunks/chunk72.wav : It all came back to me. \n",
      "audio-chunks/chunk73.wav : And we designed it all into the mac. \n",
      "audio-chunks/chunk74.wav : It was the first computer with beautiful typography. \n",
      "audio-chunks/chunk75.wav : If i have never dropped in on that single course in college. \n",
      "audio-chunks/chunk76.wav : The mac would have never had multiple typefaces or proportionally space fonts. \n",
      "audio-chunks/chunk77.wav : And since windows just copied the mac. \n",
      "audio-chunks/chunk78.wav : It's likely that no personal computer would have them. \n",
      "audio-chunks/chunk79.wav : If i have never dropped out i would have never dropped in on that calligraphy class and personal computers might not have the wonderful typography that they do. \n",
      "audio-chunks/chunk80.wav : Of course it was impossible to connect the dots looking forward when i was in college. \n",
      "audio-chunks/chunk81.wav : But it was very very clear looking backwards 10 years later. \n",
      "audio-chunks/chunk82.wav : Again you can't connect the dots looking forward you can only connect them looking backwards. \n",
      "audio-chunks/chunk83.wav : So you have to trust that the dots will somehow connect in your future. \n",
      "audio-chunks/chunk84.wav : You have to trust in something. \n",
      "audio-chunks/chunk85.wav : Your gut destiny life karma whatever. \n",
      "audio-chunks/chunk86.wav : Because believing with the dots will connect down the road. \n",
      "audio-chunks/chunk87.wav : Will give you the confidence to follow your heart. \n",
      "audio-chunks/chunk88.wav : Even when it leads you off the well-worn path. \n",
      "audio-chunks/chunk89.wav : And that will make all the difference. \n",
      "audio-chunks/chunk90.wav : My second story. \n",
      "audio-chunks/chunk91.wav : Is about love and loss. \n",
      "audio-chunks/chunk92.wav : I was lucky. \n",
      "audio-chunks/chunk93.wav : I found what i loved to do early in life. \n",
      "audio-chunks/chunk94.wav : Waze and i started apple in my parents garage when i was 20. \n",
      "audio-chunks/chunk95.wav : We worked hard and in 10 years apple grown from just the two of us in the garage. \n",
      "audio-chunks/chunk96.wav : In what 2 billion dollar company with over 4000 employees. \n",
      "audio-chunks/chunk97.wav : We just released our finest creation the macintosh a year earlier and i just turned 30. \n",
      "audio-chunks/chunk98.wav : And then i got fired. \n",
      "audio-chunks/chunk99.wav : How can you get fired from a company you started. \n",
      "audio-chunks/chunk100.wav : Well. \n",
      "audio-chunks/chunk101.wav : As apple grew we hired someone who i thought was very talented. \n",
      "audio-chunks/chunk102.wav : To run the company with me. \n",
      "audio-chunks/chunk103.wav : Before the first year so things went well. \n",
      "audio-chunks/chunk104.wav : But then revisions the future began to diverge and eventually we had a falling out. \n",
      "audio-chunks/chunk105.wav : When we did our board of directors sided with him. \n",
      "audio-chunks/chunk106.wav : And so it's 30 i was out. \n",
      "audio-chunks/chunk107.wav : And very publicly out. \n",
      "audio-chunks/chunk108.wav : What have been the focus of my entire adult life was gone. \n"
     ]
    },
    {
     "name": "stdout",
     "output_type": "stream",
     "text": [
      "audio-chunks/chunk109.wav : And it was devastating. \n",
      "audio-chunks/chunk110.wav : I really didn't know what to do for a few months. \n",
      "audio-chunks/chunk111.wav : I felt that i'd let the previous-generation of entrepreneurs down. \n",
      "audio-chunks/chunk112.wav : Did i drop the baton as it was being passed me. \n",
      "audio-chunks/chunk113.wav : I met with david packard and bob noyce. \n",
      "audio-chunks/chunk114.wav : And try to apologize for screwing up so badly. \n",
      "audio-chunks/chunk115.wav : I was a very public failure and i even thought about running away from the valley. \n",
      "audio-chunks/chunk116.wav : But something slowly began to dawn on me. \n",
      "audio-chunks/chunk117.wav : I still love. \n",
      "audio-chunks/chunk118.wav : What i did. \n",
      "audio-chunks/chunk119.wav : The turn of events at apple id not change that one bit. \n",
      "audio-chunks/chunk120.wav : I've been rejected. \n",
      "audio-chunks/chunk121.wav : But i was still in love. \n",
      "audio-chunks/chunk122.wav : And so i decided to start over. \n",
      "audio-chunks/chunk123.wav : I didn't see it then. \n",
      "audio-chunks/chunk124.wav : But it turned out that getting fired from apple was the best thing that could have ever happened to me. \n",
      "audio-chunks/chunk125.wav : The heaviness of being successful. \n",
      "audio-chunks/chunk126.wav : Was replaced by the lightness of being a beginner again. \n",
      "audio-chunks/chunk127.wav : Less sure about everything. \n",
      "audio-chunks/chunk128.wav : It freed me to enter one of the most creative periods of my life. \n",
      "audio-chunks/chunk129.wav : During the next five years i started a company named next. \n",
      "audio-chunks/chunk130.wav : Another company name pixar and fell in love with an amazing woman who would become my wife. \n",
      "audio-chunks/chunk131.wav : Pixar went on to create the world's first computer animated feature film toy story. \n",
      "audio-chunks/chunk132.wav : And is now the most successful animation studio in the world. \n",
      "audio-chunks/chunk133.wav : In a remarkable turn of events. \n",
      "audio-chunks/chunk134.wav : Apple bought next and i return to apple. \n",
      "audio-chunks/chunk135.wav : And the technology we developed it next is at the heart of apple's current renaissance. \n",
      "audio-chunks/chunk136.wav : And lorraine and i. \n",
      "audio-chunks/chunk137.wav : Have a wonderful family together. \n",
      "audio-chunks/chunk138.wav : I'm pretty sure none of this would have happened if i hadn't been fired from apple. \n",
      "audio-chunks/chunk139.wav : It was awful tasting medicine but i guess the patient needed it. \n",
      "audio-chunks/chunk140.wav : Sometime life sometimes life's going to hit you in the head with a brick. \n",
      "audio-chunks/chunk141.wav : Don't lose faith. \n",
      "audio-chunks/chunk142.wav : I'm convinced that the only thing that kept me going was that i love what i did. \n",
      "audio-chunks/chunk143.wav : You got to find what you love. \n",
      "audio-chunks/chunk144.wav : And that is true for work as it is for your lovers. \n",
      "audio-chunks/chunk145.wav : Your work is going to fill a large part of your life. \n",
      "audio-chunks/chunk146.wav : And the only way to be truly satisfied is to do what you believe is great work. \n",
      "audio-chunks/chunk147.wav : And the only way to do great work is to love what you do. \n",
      "audio-chunks/chunk148.wav : If you haven't found it yet keep looking. \n",
      "audio-chunks/chunk149.wav : And don't settle. \n",
      "audio-chunks/chunk150.wav : As with all matters of the heart you'll know when you find it. \n",
      "audio-chunks/chunk151.wav : And like any great relationship it just gets better and better. \n",
      "audio-chunks/chunk152.wav : As the years roll on. \n",
      "audio-chunks/chunk153.wav : So keep looking. \n",
      "audio-chunks/chunk154.wav : Don't settle. \n",
      "Error: \n",
      "audio-chunks/chunk156.wav : My third story. \n",
      "audio-chunks/chunk157.wav : It's about death. \n",
      "audio-chunks/chunk158.wav : When i was 17 i read a quote that went something like. \n",
      "audio-chunks/chunk159.wav : If you live each day as if it was your last someday you'll most certainly be right. \n",
      "audio-chunks/chunk160.wav : It made an impression on me. \n",
      "audio-chunks/chunk161.wav : And since then for the past 33 years i've looked in the mirror every morning and ask myself. \n",
      "audio-chunks/chunk162.wav : If today were the last day of my life. \n",
      "audio-chunks/chunk163.wav : Would i want to do what i am about to do today. \n",
      "audio-chunks/chunk164.wav : And whenever the answer has been no for too many days in a row. \n",
      "audio-chunks/chunk165.wav : I know i need to change something. \n",
      "audio-chunks/chunk166.wav : Remembering that all be dead soon is the most important tool i've ever encountered to help me make the big choices in life. \n",
      "audio-chunks/chunk167.wav : Because almost everything. \n",
      "audio-chunks/chunk168.wav : All external expectations all pride or fear of embarrassment or failure. \n",
      "audio-chunks/chunk169.wav : These things just fall away in the face of death. \n",
      "audio-chunks/chunk170.wav : Leaving only what is truly important. \n",
      "audio-chunks/chunk171.wav : Remembering that you are going to die. \n",
      "audio-chunks/chunk172.wav : Is the best way i know to avoid the trap of thinking you have something to lose. \n",
      "audio-chunks/chunk173.wav : You are already naked. \n",
      "audio-chunks/chunk174.wav : There is no reason not to follow your heart. \n",
      "audio-chunks/chunk175.wav : About a year ago. \n",
      "audio-chunks/chunk176.wav : I was diagnosed with cancer. \n",
      "audio-chunks/chunk177.wav : I have a scan at 7:30 in the morning and it clearly showed a tumor on my pancreas. \n",
      "audio-chunks/chunk178.wav : I didn't even know what a pancreas was. \n",
      "audio-chunks/chunk179.wav : The doctors told me this was almost certainly a type of cancer that is incurable. \n",
      "audio-chunks/chunk180.wav : And that i should expect to live no longer than 3 to 6 months. \n",
      "audio-chunks/chunk181.wav : My doctor advised me to go home and get my affairs in order. \n",
      "audio-chunks/chunk182.wav : Which is doctors code for prepare to die. \n",
      "audio-chunks/chunk183.wav : It means to try and tell your kids everything. \n",
      "audio-chunks/chunk184.wav : You thought you had the next 10 years to tell them. \n",
      "audio-chunks/chunk185.wav : In just a few months. \n",
      "audio-chunks/chunk186.wav : It means to make sure everything is buttoned up. \n",
      "audio-chunks/chunk187.wav : So that will be as easy as possible for your family. \n",
      "audio-chunks/chunk188.wav : It means to say your goodbyes. \n",
      "audio-chunks/chunk189.wav : I lived with that diagnosis all day. \n",
      "audio-chunks/chunk190.wav : Later that evening i had a biopsy. \n",
      "audio-chunks/chunk191.wav : Were they stuck an endoscope down my throat. \n",
      "audio-chunks/chunk192.wav : Through my stomach into my intestines. \n",
      "audio-chunks/chunk193.wav : Put a needle into my pancreas and got a few cells from the tumor. \n",
      "audio-chunks/chunk194.wav : I was sedated. \n",
      "audio-chunks/chunk195.wav : But my wife who was there. \n",
      "audio-chunks/chunk196.wav : Told me that when they view the cells under a microscope. \n",
      "audio-chunks/chunk197.wav : The doctor started crying. \n",
      "audio-chunks/chunk198.wav : Because it turned out to be a very rare form of pancreatic cancer that is curable with surgery. \n",
      "audio-chunks/chunk199.wav : I have the surgery. \n",
      "audio-chunks/chunk200.wav : And thankfully i'm fine now. \n",
      "Error: \n",
      "audio-chunks/chunk202.wav : This was the closest i've been to facing death. \n",
      "audio-chunks/chunk203.wav : And i hope it's the closest i get for a few more decades. \n",
      "audio-chunks/chunk204.wav : Having lived through it. \n",
      "audio-chunks/chunk205.wav : I can now say this to you with a bit more certainty than one death was a useful but purely intellectual concept. \n",
      "audio-chunks/chunk206.wav : No one wants to die. \n",
      "audio-chunks/chunk207.wav : Even people who want to go to heaven don't want to die to get there. \n",
      "audio-chunks/chunk208.wav : And yet. \n",
      "audio-chunks/chunk209.wav : Death is the destination we all share. \n",
      "audio-chunks/chunk210.wav : No one has ever escaped it. \n",
      "audio-chunks/chunk211.wav : And that is as it should be. \n",
      "audio-chunks/chunk212.wav : Because death is very likely the single best invention of life. \n",
      "audio-chunks/chunk213.wav : It's life's change agent it clears out the old to make way for the new. \n",
      "audio-chunks/chunk214.wav : Right now the new is you. \n",
      "audio-chunks/chunk215.wav : But someday not too long from now you will gradually become the old and be cleared away. \n",
      "audio-chunks/chunk216.wav : Sorry to be so dramatic. \n",
      "audio-chunks/chunk217.wav : But it's quite true. \n"
     ]
    },
    {
     "name": "stdout",
     "output_type": "stream",
     "text": [
      "audio-chunks/chunk218.wav : Your time is limited so don't waste it living someone else's life. \n",
      "audio-chunks/chunk219.wav : Don't be trapped by dogma which is living with the results of other people's thinking. \n",
      "audio-chunks/chunk220.wav : Don't let the noise of others opinions drown out your own inner voice. \n",
      "audio-chunks/chunk221.wav : And most important. \n",
      "audio-chunks/chunk222.wav : Have the courage to follow your heart and intuition. \n",
      "audio-chunks/chunk223.wav : They somehow already know. \n",
      "audio-chunks/chunk224.wav : What you truly want to become. \n",
      "audio-chunks/chunk225.wav : Everything else. \n",
      "audio-chunks/chunk226.wav : Is secondary. \n",
      "Error: \n",
      "audio-chunks/chunk228.wav : When i was young. \n",
      "audio-chunks/chunk229.wav : There was an amazing publication. \n",
      "audio-chunks/chunk230.wav : Call the whole earth catalog. \n",
      "audio-chunks/chunk231.wav : Which was one of the bible's of my generation. \n",
      "audio-chunks/chunk232.wav : It was created by a fellow named stewart brand not far from here in menlo park. \n",
      "audio-chunks/chunk233.wav : And he brought it to life with his poetic touch. \n",
      "audio-chunks/chunk234.wav : This was in the late 60s before personal computers and desktop publishing. \n",
      "audio-chunks/chunk235.wav : It was all made with typewriters scissors and polaroid cameras. \n",
      "audio-chunks/chunk236.wav : It was sort of like google in paperback form 35 years before google came along. \n",
      "audio-chunks/chunk237.wav : It was idealistic. \n",
      "audio-chunks/chunk238.wav : Overflowing with neat tools and great notions. \n",
      "audio-chunks/chunk239.wav : Stewart and his team put out several issues of the whole earth catalog. \n",
      "audio-chunks/chunk240.wav : And then when it run its course. \n",
      "audio-chunks/chunk241.wav : They put out a final issue. \n",
      "audio-chunks/chunk242.wav : It was a mid-1970s. \n",
      "audio-chunks/chunk243.wav : And i was your age. \n",
      "audio-chunks/chunk244.wav : On the back cover of their final issue was a photograph of an early-morning country road. \n",
      "audio-chunks/chunk245.wav : The kind you might find yourself hitchhiking on. \n",
      "audio-chunks/chunk246.wav : If you were so adventurous. \n",
      "audio-chunks/chunk247.wav : Bonita with the words. \n",
      "audio-chunks/chunk248.wav : Stay hungry. \n",
      "audio-chunks/chunk249.wav : Stay foolish. \n",
      "audio-chunks/chunk250.wav : It was their farewell message as they signed off. \n",
      "audio-chunks/chunk251.wav : Stay hungry. \n",
      "audio-chunks/chunk252.wav : Stay foolish. \n",
      "audio-chunks/chunk253.wav : And i've always wished that. \n",
      "audio-chunks/chunk254.wav : For myself. \n",
      "audio-chunks/chunk255.wav : And now. \n",
      "audio-chunks/chunk256.wav : As you graduate to begin anew. \n",
      "audio-chunks/chunk257.wav : I wish that for you. \n",
      "audio-chunks/chunk258.wav : Stay hungry. \n",
      "audio-chunks/chunk259.wav : Stay foolish. \n",
      "audio-chunks/chunk260.wav : Thank you all very. \n",
      "Error: \n"
     ]
    }
   ],
   "source": [
    "filepath = \"SteveJobsCommencementSpeech.wav\"\n",
    "transcript = get_large_audio_transcription(filepath)"
   ]
  },
  {
   "cell_type": "code",
   "execution_count": 38,
   "metadata": {},
   "outputs": [
    {
     "name": "stdout",
     "output_type": "stream",
     "text": [
      "Steve Jobs Stanford Commencement Speech: \n",
      "\n",
      "Thank you. Imma. Honor to be with you today for your commencement from one of the finest universities in the world. Truth be told. I never graduated from college. Anna. This is the closest i've ever gotten to a college graduation. Today i want to tell you three stories from my life. That's it no big deal. Just three stories. The first story. It's about connecting the dots. I dropped out of college after the first six months but then stayed around as a drop in for another 18 months or so before i really quit. So why'd i drop out. It started before i was born. My biological mother. Was a young unwed graduate student. And she decided to put me up for adoption. She felt very strongly that i should be adopted by college graduates so everything was all set. For me to be adopted at birth by a lawyer and his wife. Accept it when i popped out. They decided at the last minute that they really wanted a girl. So my parents who are on a waiting list got a call in the middle of the night asking. We got an unexpected baby boy. Do you want him. They said. Of course. My biological mother found out later that my mother had never graduated from college. And my father had never graduated from high school. She refused to sign the final adoption papers. The only relented a few months later when my parents promised. That i would go to college. This was the start. In my life. And 17 years later. I did go to college. But i naively choose a college it was almost as expensive as stanford. And all of my working-class parents savings were being spent on my college tuition. After 6 months i couldn't see the value in it. I had no idea what i wanted to do with my life. And no idea how college was going to help me figure it out. And here i was spending all the money my parents would save their entire life. So i decided to drop out. Entrusted it would all work out okay. It was pretty scary at the time but looking back. It was one of the best decisions i ever made. The minute i dropped out. I could stop taking the required classes that didn't interest me. And begin dropping in on the ones that look far more interesting. It wasn't all romantic. I didn't have a dorm room so i slept on the floor in friends rooms. I return coke bottles for the $0.05 deposits to buy food with. And i would walk the seven miles across town every sunday night. To get one good meal a week at the hari krishna temple. I loved it. And much of what i stumbled into by following my curiosity and intuition turned out to be priceless later on. Let me give you one example. Reed college at that time offered perhaps the best calligraphy instruction in the country. Throughout the campus. Every poster every label on every drawer was beautifully hand telegraph. Because i had dropped out and didn't have to take the normal classes. I decided to take a calligraphy class to learn how to do this. I learned about serif and sans serif typefaces. About varying the amount of space between different letter combinations about what makes great typography great. It was beautiful. Historical. Artistically subtle in a way that science can't capture. And i found it fascinating. None of this had even a hope of any practical application in my life. But ten years later when we were designing the first macintosh computer. It all came back to me. And we designed it all into the mac. It was the first computer with beautiful typography. If i had never dropped in on that single course in college. The mac would have never had multiple typefaces or proportionally spaced fonts. And since windows just copied the mac. It's likely that no personal computer would have them. If i have never dropped out i would have never dropped in on that calligraphy class and personal computers might not have the wonderful typography that they do. Of course it was impossible to connect the dots looking forward when i was in college. But it was very very clear looking backwards 10 years later. Again you can't connect the dots looking forward you can only connect them looking backwards. So you have to trust that the dots will somehow connect in your future. You have to trust in something. Your gut destiny life karma whatever. Because believing with the dots will connect down the road. Will give you the confidence to follow your heart. Even when it leads you off the well-worn path. And that will make all the difference. My second story. Is about love and loss. I was lucky. I found what i loved to do early in life. Waze and i started apple in my parents garage when i was 20. We worked hard and in 10 years apple grown from just the two of us in the garage. In what 2 billion dollar company with over 4000 employees. We just released our finest creation the macintosh a year earlier and i just turned 30. And then i got fired. How can you get fired from a company you started. Well. As apple grew we hired someone who i thought was very talented. To run the company with me. Before the first year so things went well. But then revisions the future began to diverge and eventually we had a falling out. When we did our board of directors sided with him. And so it's 30 i was out. And very publicly out. What have been the focus of my entire adult life was gone. And it was devastating. I really didn't know what to do for a few months. I felt that i'd let the previous-generation of entrepreneurs down. Did i drop the baton as it was being passed me. I met with david packard and bob noyce. And try to apologize for screwing up so badly. I was a very public failure and i even thought about running away from the valley. But something slowly began to dawn on me. I still love. What i did. The turn of events at apple id not change that one bit. I've been rejected. But i was still in love. And so i decided to start over. I didn't see it then. But it turned out that getting fired from apple was the best thing that could have ever happened to me. The heaviness of being successful. Was replaced by the lightness of being a beginner again. Less sure about everything. It freed me to enter one of the most creative periods of my life. During the next five years i started a company named next. Another company name pixar and fell in love with an amazing woman who would become my wife. Pixar went on to create the world's first computer animated feature film toy story. And is now the most successful animation studio in the world. In a remarkable turn of events. Apple bought next and i return to apple. And the technology we developed it next is at the heart of apple's current renaissance. And lorraine and i. Have a wonderful family together. I'm pretty sure none of this would have happened if i hadn't been fired from apple. It was awful tasting medicine but i guess the patient needed it. Sometime life sometimes life's going to hit you in the head with a brick. Don't lose faith. I'm convinced that the only thing that kept me going was that i love what i did. You got to find what you love. And that is true for work as it is for your lovers. Your work is going to fill a large part of your life. And the only way to be truly satisfied is to do what you believe is great work. And the only way to do great work is to love what you do. If you haven't found it yet keep looking. And don't settle. As with all matters of the heart you'll know when you find it. And like any great relationship it just gets better and better. As the years roll on. So keep looking. Don't settle. My third story. It's about death. When i was 17 i read a quote that went something like. If you live each day as if it was your last someday you'll most certainly be right. It made an impression on me. And since then for the past 33 years i've looked in the mirror every morning and ask myself. If today were the last day of my life. Would i want to do what i am about to do today. And whenever the answer has been no for too many days in a row. I know i need to change something. Remembering that all be dead soon is the most important tool i've ever encountered to help me make the big choices in life. Because almost everything. All external expectations all pride or fear of embarrassment or failure. These things just fall away in the face of death. Leaving only what is truly important. Remembering that you are going to die. Is the best way i know to avoid the trap of thinking you have something to lose. You are already naked. There is no reason not to follow your heart. About a year ago. I was diagnosed with cancer. I have a scan at 7:30 in the morning and it clearly showed a tumor on my pancreas. I didn't even know what a pancreas was. The doctors told me this was almost certainly a type of cancer that is incurable. And that i should expect to live no longer than 3 to 6 months. My doctor advised me to go home and get my affairs in order. Which is doctors code for prepare to die. It means to try and tell your kids everything. You thought you had the next 10 years to tell them. In just a few months. It means to make sure everything is buttoned up. So that will be as easy as possible for your family. It means to say your goodbyes. I lived with that diagnosis all day. Later that evening i had a biopsy. Were they stuck an endoscope down my throat. Through my stomach into my intestines. Put a needle into my pancreas and got a few cells from the tumor. I was sedated. But my wife who was there. Told me that when they view the cells under a microscope. The doctor started crying. Because it turned out to be a very rare form of pancreatic cancer that is curable with surgery. I have the surgery. And thankfully i'm fine now. This was the closest i've been to facing death. And i hope it's the closest i get for a few more decades. Having lived through it. I can now say this to you with a bit more certainty than one death was a useful but purely intellectual concept. No one wants to die. Even people who want to go to heaven don't want to die to get there. And yet. Death is the destination we all share. No one has ever escaped it. And that is as it should be. Because death is very likely the single best invention of life. It's life's change agent it clears out the old to make way for the new. Right now the new is you. But someday not too long from now you will gradually become the old and be cleared away. Sorry to be so dramatic. But it's quite true. Your time is limited so don't waste it living someone else's life. Don't be trapped by dogma which is living with the results of other people's thinking. Don't let the noise of others opinions drowned out your own inner voice. And most important. Have the courage to follow your heart and intuition. They somehow already know. What you truly want to become. Everything else. Is secondary. When i was young. There was an amazing publication. Call the whole earth catalog. Which was one of the bible's of my generation. It was created by a fellow named stewart brand not far from here in menlo park. And he brought it to life with his poetic touch. This was in the late 60s before personal computers and desktop publishing. It was all made with typewriters scissors and polaroid cameras. It was sort of like google in paperback form 35 years before google came along. It was idealistic. Overflowing with neat tools and great notions. Stewart and his team put out several issues of the whole earth catalog. And then when it run its course. They put out a final issue. It was a mid-1970s. And i was your age. On the back cover of their final issue was a photograph of an early-morning country road. The kind you might find yourself hitchhiking on. If you were so adventurous. Bonita with the words. Stay hungry. Stay foolish. It was their farewell message as they signed off. Stay hungry. Stay foolish. And i've always wished that. For myself. And now. As you graduate to begin anew. I wish that for you. Stay hungry. Stay foolish. Thank you all very. \n"
     ]
    }
   ],
   "source": [
    "print(\"Steve Jobs Stanford Commencement Speech: \\n\")\n",
    "print(transcript)"
   ]
  },
  {
   "cell_type": "code",
   "execution_count": 41,
   "metadata": {},
   "outputs": [
    {
     "name": "stdout",
     "output_type": "stream",
     "text": [
      "Total words in transcript: 11873\n"
     ]
    }
   ],
   "source": [
    "# Total words in transcript\n",
    "print(f\"Total words in transcript: {len(transcript)}\")"
   ]
  },
  {
   "cell_type": "code",
   "execution_count": 45,
   "metadata": {},
   "outputs": [],
   "source": [
    "# Loading official transcript from txt file\n",
    "file_name = \"steveJobsTranscript.txt\"\n",
    "official_transcript = \"\"\n",
    "\n",
    "with open(file_name, 'rt') as fd:\n",
    "    official_transcript = fd.readlines()"
   ]
  },
  {
   "cell_type": "code",
   "execution_count": 47,
   "metadata": {},
   "outputs": [
    {
     "name": "stdout",
     "output_type": "stream",
     "text": [
      "Total words in official transcript: 11921\n"
     ]
    }
   ],
   "source": [
    "# Join lines as one entire string and then print number of words\n",
    "official_transcript = \"\".join(official_transcript)\n",
    "\n",
    "print(f\"Total words in official transcript: {len(official_transcript)}\")"
   ]
  },
  {
   "cell_type": "code",
   "execution_count": 49,
   "metadata": {},
   "outputs": [
    {
     "name": "stdout",
     "output_type": "stream",
     "text": [
      "Words missed from official transcript: 48\n",
      "Percentage of missed words from total in official transcript: 0.40%\n"
     ]
    }
   ],
   "source": [
    "# Evaluate how many words lost during transcription\n",
    "words_missed = len(official_transcript)-len(transcript)\n",
    "print(f\"Words missed from official transcript: {words_missed}\")\n",
    "\n",
    "percent_missed = (words_missed/len(official_transcript))*100\n",
    "print(f\"Percentage of missed words from total in official transcript: {percent_missed:.2f}%\")"
   ]
  },
  {
   "cell_type": "code",
   "execution_count": null,
   "metadata": {},
   "outputs": [],
   "source": []
  }
 ],
 "metadata": {
  "kernelspec": {
   "display_name": "Python 3",
   "language": "python",
   "name": "python3"
  },
  "language_info": {
   "codemirror_mode": {
    "name": "ipython",
    "version": 3
   },
   "file_extension": ".py",
   "mimetype": "text/x-python",
   "name": "python",
   "nbconvert_exporter": "python",
   "pygments_lexer": "ipython3",
   "version": "3.7.1"
  }
 },
 "nbformat": 4,
 "nbformat_minor": 2
}
